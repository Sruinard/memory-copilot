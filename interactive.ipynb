{
 "cells": [
  {
   "cell_type": "code",
   "execution_count": 36,
   "metadata": {},
   "outputs": [
    {
     "name": "stdout",
     "output_type": "stream",
     "text": [
      "The autoreload extension is already loaded. To reload it, use:\n",
      "  %reload_ext autoreload\n"
     ]
    }
   ],
   "source": [
    "%load_ext autoreload\n",
    "%autoreload 2"
   ]
  },
  {
   "cell_type": "code",
   "execution_count": 37,
   "metadata": {},
   "outputs": [],
   "source": [
    "\n",
    "from memory_pilot.copilot import copilot, memory"
   ]
  },
  {
   "cell_type": "code",
   "execution_count": 38,
   "metadata": {},
   "outputs": [
    {
     "data": {
      "text/plain": [
       "Kernel(plugins=KernelPluginCollection(plugins={'SummaryPlugin': KernelPlugin(name='SummaryPlugin', description=None, functions={'Shakespeare': KernelFunctionFromPrompt(metadata=KernelFunctionMetadata(name='Shakespeare', plugin_name='SummaryPlugin', description='Summarize in a shakespearean style.', parameters=[KernelParameterMetadata(name='input', description='The text to summarize in a shakespearean style.', default_value='', type_='', is_required=True, type_object=None)], is_prompt=True, is_asynchronous=True, return_parameter=KernelParameterMetadata(name='return', description='The completion result', default_value=None, type_='FunctionResult', is_required=True, type_object=None)), prompt_template=KernelPromptTemplate(prompt_template_config=PromptTemplateConfig(name='Shakespeare', description='Summarize in a shakespearean style.', template='Rewrite the input in shakespearian style.\\n\\n{{$input}}\\n\\nyour response:', template_format='semantic-kernel', input_variables=[InputVariable(name='input', description='The text to summarize in a shakespearean style.', default='', is_required=True, json_schema='')], execution_settings={'default': PromptExecutionSettings(service_id=None, extension_data={'max_tokens': 200, 'temperature': 0.7, 'top_p': 0.0, 'presence_penalty': 0.0, 'frequency_penalty': 0.0})})), prompt_execution_settings={'default': PromptExecutionSettings(service_id=None, extension_data={'max_tokens': 200, 'temperature': 0.7, 'top_p': 0.0, 'presence_penalty': 0.0, 'frequency_penalty': 0.0})})})}), services={'default': AzureChatCompletion(ai_model_id='gpt-35-turbo', service_id='default', client=<openai.lib.azure.AsyncAzureOpenAI object at 0x11a6d4c10>, ai_model_type=<OpenAIModelTypes.CHAT: 'chat'>, prompt_tokens=0, completion_tokens=0, total_tokens=0), 'text-embedding-ada-002': AzureTextEmbedding(ai_model_id='text-embedding-ada-002', service_id='text-embedding-ada-002', client=<openai.lib.azure.AsyncAzureOpenAI object at 0x11aef2100>, ai_model_type=<OpenAIModelTypes.EMBEDDING: 'embedding'>, prompt_tokens=0, completion_tokens=0, total_tokens=0)}, ai_service_selector=<semantic_kernel.services.ai_service_selector.AIServiceSelector object at 0x1034a36d0>, retry_mechanism=PassThroughWithoutRetry(), function_invoking_handlers={}, function_invoked_handlers={})"
      ]
     },
     "execution_count": 38,
     "metadata": {},
     "output_type": "execute_result"
    }
   ],
   "source": [
    "path_to_plugins = \"./memory_pilot/plugins\"\n",
    "copilot.get_kernel(path_to_plugins)"
   ]
  },
  {
   "cell_type": "code",
   "execution_count": 39,
   "metadata": {},
   "outputs": [],
   "source": [
    "path_to_plugins = \"./memory_pilot/plugins\"\n",
    "k = copilot.get_kernel(path_to_plugins)"
   ]
  },
  {
   "cell_type": "code",
   "execution_count": 40,
   "metadata": {},
   "outputs": [],
   "source": [
    "ftc = k.plugins.plugins[\"SummaryPlugin\"].functions[\"Shakespeare\"]\n",
    "\n",
    "# [\"Sheakespeare\"]"
   ]
  },
  {
   "cell_type": "code",
   "execution_count": 41,
   "metadata": {},
   "outputs": [],
   "source": [
    "out = await k.invoke(ftc, input=\"To be or not to be, that is the question\")"
   ]
  },
  {
   "cell_type": "code",
   "execution_count": 42,
   "metadata": {},
   "outputs": [
    {
     "name": "stdout",
     "output_type": "stream",
     "text": [
      "To exist or not to exist, that doth be the query\n"
     ]
    }
   ],
   "source": [
    "print(out)"
   ]
  },
  {
   "cell_type": "code",
   "execution_count": 43,
   "metadata": {},
   "outputs": [],
   "source": [
    "search_api_key = \"\"\n",
    "endpoint = \"\"\n"
   ]
  },
  {
   "cell_type": "code",
   "execution_count": 44,
   "metadata": {},
   "outputs": [],
   "source": [
    "memcfg = memory.MemoryCfg(\n",
    "    endpoint=endpoint,\n",
    "    credential=search_api_key,\n",
    "    index_name=\"rdw-memory-pilot-index\",\n",
    ")\n",
    "\n",
    "m = memory.CopilotMemory(k, memcfg)"
   ]
  },
  {
   "cell_type": "code",
   "execution_count": 45,
   "metadata": {},
   "outputs": [],
   "source": [
    "m.delete_index()"
   ]
  },
  {
   "cell_type": "code",
   "execution_count": 46,
   "metadata": {},
   "outputs": [],
   "source": [
    "m.create_index()"
   ]
  },
  {
   "cell_type": "code",
   "execution_count": 47,
   "metadata": {},
   "outputs": [],
   "source": [
    "# id, title, body, categories\n",
    "documents = [\n",
    "    {\n",
    "        \"@search.action\": \"upload\",\n",
    "        \"id\": \"1\",\n",
    "        \"title\": \"Exploring the Ancient Ruins of Machu Picchu\",\n",
    "        \"body\": \"Machu Picchu, nestled high in the Andes Mountains of Peru, is a breathtaking archaeological site that offers a glimpse into the ancient Incan civilization. The towering stone structures, intricate terraces, and panoramic views make it a must-visit destination for any traveler seeking adventure and history.\",\n",
    "        \"category\": \"travel\"\n",
    "    },\n",
    "    # {\n",
    "    #     \"id\": \"2\",\n",
    "    #     \"title\": \"Journeying through the Cosmos: A Space Odyssey\",\n",
    "    #     \"body\": \"Venturing beyond the confines of Earth, humanity has embarked on a grand journey through the cosmos, exploring distant planets, probing the mysteries of black holes, and marveling at the vastness of the universe. With each new discovery, we uncover more about our place in the cosmos and the wonders that lie beyond.\",\n",
    "    #     \"category\": \"space\"\n",
    "    # },\n",
    "    {\n",
    "        \"id\": \"3\",\n",
    "        \"title\": \"The Thrill of Skydiving\",\n",
    "        \"body\": \"For adrenaline junkies and thrill-seekers, skydiving offers an unparalleled rush of excitement and freedom. The sensation of plummeting through the air, the wind rushing past your ears, and the breathtaking views below create an unforgettable experience that will leave you craving more.\",\n",
    "        \"category\": \"sports\"\n",
    "    },\n",
    "    {\n",
    "        \"id\": \"4\",\n",
    "        \"title\": \"Savoring Street Food Delights in Bangkok\",\n",
    "        \"body\": \"Bangkok, with its bustling streets and vibrant markets, is a food lover's paradise. From savory pad thai to spicy tom yum soup, the city's street food vendors serve up a tantalizing array of flavors that will tantalize your taste buds and leave you craving more. Don't miss the chance to explore this culinary mecca on your next trip to Thailand!\",\n",
    "        \"category\": \"food\"\n",
    "    },\n",
    "    {\n",
    "        \"id\": \"5\",\n",
    "        \"title\": \"A Trek Through the Amazon Rainforest\",\n",
    "        \"body\": \"The Amazon Rainforest, often referred to as the 'lungs of the Earth,' is a vast and biodiverse ecosystem teeming with life. Embarking on a trek through its dense jungles, winding rivers, and towering trees offers a once-in-a-lifetime opportunity to connect with nature in its purest form and witness the incredible diversity of plant and animal species that call the Amazon home.\",\n",
    "        \"category\": \"travel\"\n",
    "    },\n",
    "    {\n",
    "        \"id\": \"6\",\n",
    "        \"title\": \"The Mysteries of the Red Planet: Exploring Mars\",\n",
    "        \"body\": \"Mars, the fourth planet from the sun, has long captured the imagination of scientists and space enthusiasts alike. With its barren landscapes, towering volcanoes, and tantalizing hints of ancient water, Mars offers tantalizing clues about the possibility of life beyond Earth and the potential for human exploration in the not-too-distant future.\",\n",
    "        \"category\": \"space\"\n",
    "    },\n",
    "    {\n",
    "        \"id\": \"7\",\n",
    "        \"title\": \"Diving into the Depths: Exploring the Great Barrier Reef\",\n",
    "        \"body\": \"The Great Barrier Reef, located off the coast of Queensland, Australia, is the largest coral reef system on the planet and a UNESCO World Heritage Site. Beneath its crystal-clear waters lies a vibrant underwater paradise teeming with colorful coral formations, exotic marine life, and awe-inspiring natural beauty. Exploring the Great Barrier Reef is a bucket-list experience for any avid diver or nature enthusiast.\",\n",
    "        \"category\": \"travel\"\n",
    "    },\n",
    "    {\n",
    "        \"id\": \"8\",\n",
    "        \"title\": \"The Majesty of the Milky Way: A Celestial Symphony\",\n",
    "        \"body\": \"Stretching across the night sky like a celestial river of light, the Milky Way galaxy is a breathtaking sight to behold. From remote mountaintop observatories to dark sky preserves, astronomers and stargazers alike flock to locations with minimal light pollution to marvel at the beauty of our galaxy and ponder the mysteries of the cosmos.\",\n",
    "        \"category\": \"space\"\n",
    "    },\n",
    "    {\n",
    "        \"id\": \"9\",\n",
    "        \"title\": \"The Artistry of Ballet: Grace and Elegance in Motion\",\n",
    "        \"body\": \"Ballet, with its graceful movements and exquisite choreography, is a timeless art form that has captivated audiences for centuries. From the ethereal beauty of Swan Lake to the fiery passion of The Nutcracker, ballet transcends language and culture, speaking to the universal human experience with its emotive storytelling and unparalleled artistry.\",\n",
    "        \"category\": \"sports\"\n",
    "    },\n",
    "    {\n",
    "        \"id\": \"10\",\n",
    "        \"title\": \"Indulging in Authentic Gelato in Florence\",\n",
    "        \"body\": \"Florence, the birthplace of the Renaissance, is not only a treasure trove of art and history but also a paradise for food lovers. While exploring its cobblestone streets and historic piazzas, be sure to indulge in a scoop (or two) of authentic Italian gelato. With its creamy texture, intense flavors, and artisanal craftsmanship, gelato in Florence is a culinary experience that will leave you craving more.\",\n",
    "        \"category\": \"food\"\n",
    "    },\n",
    "    {\n",
    "        \"id\": \"11\",\n",
    "        \"title\": \"A Spiritual Journey to the Temples of Kyoto\",\n",
    "        \"body\": \"Kyoto, Japan's cultural capital, is home to a wealth of ancient temples, shrines, and gardens that offer a glimpse into the country's rich spiritual heritage. From the iconic Fushimi Inari Shrine with its thousands of vermilion torii gates to the serene Zen gardens of Ryoan-ji, Kyoto's sacred sites provide a tranquil retreat from the hustle and bustle of modern life.\",\n",
    "        \"category\": \"travel\"\n",
    "    },\n",
    "    {\n",
    "        \"id\": \"12\",\n",
    "        \"title\": \"Unraveling the Mysteries of Black Holes\",\n",
    "        \"body\": \"Black holes, with their immense gravitational pull and mysterious interiors, have long fascinated astronomers and physicists alike. From the event horizon to the singularity, these cosmic enigmas challenge our understanding of space, time, and the very nature of reality itself. Through observations and simulations, scientists continue to unravel the secrets of black holes, shedding light on some of the most profound mysteries of the universe.\",\n",
    "        \"category\": \"space\"\n",
    "    },\n",
    "    {\n",
    "        \"id\": \"13\",\n",
    "        \"title\": \"The Thrill of Extreme Mountain Biking\",\n",
    "        \"body\": \"For adrenaline junkies and outdoor enthusiasts, extreme mountain biking offers an exhilarating blend of speed, skill, and adrenaline. From rugged singletrack trails to steep downhill descents, mountain bikers push the limits of their abilities as they navigate treacherous terrain and conquer formidable obstacles. Whether you're a seasoned pro or a novice rider, the thrill of extreme mountain biking is an experience like no other.\",\n",
    "        \"category\": \"sports\"\n",
    "    },\n",
    "    {\n",
    "        \"id\": \"14\",\n",
    "        \"title\": \"Savoring the Flavors of Authentic Thai Cuisine in Bangkok\",\n",
    "        \"body\": \"Bangkok, with its vibrant street food scene and world-renowned restaurants, is a paradise for food lovers seeking to explore the diverse and flavorful cuisine of Thailand. From spicy tom yum soup to fragrant green curry\",\n",
    "        \"category\": \"food\"\n",
    "    },\n",
    "]"
   ]
  },
  {
   "cell_type": "code",
   "execution_count": 48,
   "metadata": {},
   "outputs": [
    {
     "name": "stdout",
     "output_type": "stream",
     "text": [
      "0: Machu Picchu, nestled high in the Andes Mountains of Peru, is a breathtaking archaeological site that offers a glimpse into the ancient Incan civilization. The towering stone structures, intricate terraces, and panoramic views make it a must-visit destination for any traveler seeking adventure and history.\n",
      "1: For adrenaline junkies and thrill-seekers, skydiving offers an unparalleled rush of excitement and freedom. The sensation of plummeting through the air, the wind rushing past your ears, and the breathtaking views below create an unforgettable experience that will leave you craving more.\n",
      "2: Bangkok, with its bustling streets and vibrant markets, is a food lover's paradise. From savory pad thai to spicy tom yum soup, the city's street food vendors serve up a tantalizing array of flavors that will tantalize your taste buds and leave you craving more. Don't miss the chance to explore this culinary mecca on your next trip to Thailand!\n",
      "3: The Amazon Rainforest, often referred to as the 'lungs of the Earth,' is a vast and biodiverse ecosystem teeming with life. Embarking on a trek through its dense jungles, winding rivers, and towering trees offers a once-in-a-lifetime opportunity to connect with nature in its purest form and witness the incredible diversity of plant and animal species that call the Amazon home.\n",
      "4: Mars, the fourth planet from the sun, has long captured the imagination of scientists and space enthusiasts alike. With its barren landscapes, towering volcanoes, and tantalizing hints of ancient water, Mars offers tantalizing clues about the possibility of life beyond Earth and the potential for human exploration in the not-too-distant future.\n",
      "5: The Great Barrier Reef, located off the coast of Queensland, Australia, is the largest coral reef system on the planet and a UNESCO World Heritage Site. Beneath its crystal-clear waters lies a vibrant underwater paradise teeming with colorful coral formations, exotic marine life, and awe-inspiring natural beauty. Exploring the Great Barrier Reef is a bucket-list experience for any avid diver or nature enthusiast.\n",
      "6: Stretching across the night sky like a celestial river of light, the Milky Way galaxy is a breathtaking sight to behold. From remote mountaintop observatories to dark sky preserves, astronomers and stargazers alike flock to locations with minimal light pollution to marvel at the beauty of our galaxy and ponder the mysteries of the cosmos.\n",
      "7: Ballet, with its graceful movements and exquisite choreography, is a timeless art form that has captivated audiences for centuries. From the ethereal beauty of Swan Lake to the fiery passion of The Nutcracker, ballet transcends language and culture, speaking to the universal human experience with its emotive storytelling and unparalleled artistry.\n",
      "8: Florence, the birthplace of the Renaissance, is not only a treasure trove of art and history but also a paradise for food lovers. While exploring its cobblestone streets and historic piazzas, be sure to indulge in a scoop (or two) of authentic Italian gelato. With its creamy texture, intense flavors, and artisanal craftsmanship, gelato in Florence is a culinary experience that will leave you craving more.\n",
      "9: Kyoto, Japan's cultural capital, is home to a wealth of ancient temples, shrines, and gardens that offer a glimpse into the country's rich spiritual heritage. From the iconic Fushimi Inari Shrine with its thousands of vermilion torii gates to the serene Zen gardens of Ryoan-ji, Kyoto's sacred sites provide a tranquil retreat from the hustle and bustle of modern life.\n",
      "10: Black holes, with their immense gravitational pull and mysterious interiors, have long fascinated astronomers and physicists alike. From the event horizon to the singularity, these cosmic enigmas challenge our understanding of space, time, and the very nature of reality itself. Through observations and simulations, scientists continue to unravel the secrets of black holes, shedding light on some of the most profound mysteries of the universe.\n",
      "11: For adrenaline junkies and outdoor enthusiasts, extreme mountain biking offers an exhilarating blend of speed, skill, and adrenaline. From rugged singletrack trails to steep downhill descents, mountain bikers push the limits of their abilities as they navigate treacherous terrain and conquer formidable obstacles. Whether you're a seasoned pro or a novice rider, the thrill of extreme mountain biking is an experience like no other.\n",
      "12: Bangkok, with its vibrant street food scene and world-renowned restaurants, is a paradise for food lovers seeking to explore the diverse and flavorful cuisine of Thailand. From spicy tom yum soup to fragrant green curry\n"
     ]
    }
   ],
   "source": [
    "\n",
    "texts = [x[\"body\"] for x in documents]\n",
    "for i, x in enumerate(texts):\n",
    "    print(f\"{i}: {x}\")\n",
    "    vectors = await k.services[\n",
    "        \"text-embedding-ada-002\"\n",
    "    ].generate_embeddings(x)"
   ]
  },
  {
   "cell_type": "code",
   "execution_count": 49,
   "metadata": {},
   "outputs": [
    {
     "name": "stdout",
     "output_type": "stream",
     "text": [
      "{'@search.action': 'upload', 'id': '1', 'title': 'Exploring the Ancient Ruins of Machu Picchu', 'body': 'Machu Picchu, nestled high in the Andes Mountains of Peru, is a breathtaking archaeological site that offers a glimpse into the ancient Incan civilization. The towering stone structures, intricate terraces, and panoramic views make it a must-visit destination for any traveler seeking adventure and history.', 'category': 'travel'}\n"
     ]
    }
   ],
   "source": [
    "document = documents[0]\n",
    "print(document)\n",
    "updated_document = await m.update_document_with_embedding(document, \"body\")"
   ]
  },
  {
   "cell_type": "code",
   "execution_count": 50,
   "metadata": {},
   "outputs": [
    {
     "data": {
      "text/plain": [
       "[<azure.search.documents._generated.models._models_py3.IndexingResult at 0x11aef59d0>]"
      ]
     },
     "execution_count": 50,
     "metadata": {},
     "output_type": "execute_result"
    }
   ],
   "source": [
    "m.search_client.upload_documents(\n",
    "   [updated_document] \n",
    ")"
   ]
  },
  {
   "cell_type": "code",
   "execution_count": 62,
   "metadata": {},
   "outputs": [],
   "source": [
    "\n",
    "m.delete_index()\n",
    "m.create_index()\n",
    "await m.upload_documents(documents)"
   ]
  },
  {
   "cell_type": "code",
   "execution_count": 60,
   "metadata": {},
   "outputs": [
    {
     "name": "stdout",
     "output_type": "stream",
     "text": [
      "{'body': 'The Great Barrier Reef, located off the coast of Queensland, Australia, is the largest coral reef system on the planet and a UNESCO World Heritage Site. Beneath its crystal-clear waters lies a vibrant underwater paradise teeming with colorful coral formations, exotic marine life, and awe-inspiring natural beauty. Exploring the Great Barrier Reef is a bucket-list experience for any avid diver or nature enthusiast.', 'category': 'travel', 'title': 'Diving into the Depths: Exploring the Great Barrier Reef', '@search.score': 0.01666666753590107, '@search.reranker_score': 2.090963840484619, '@search.highlights': None, '@search.captions': [<azure.search.documents._generated.models._models_py3.QueryCaptionResult object at 0x11b24a520>]}\n",
      "{'body': \"Kyoto, Japan's cultural capital, is home to a wealth of ancient temples, shrines, and gardens that offer a glimpse into the country's rich spiritual heritage. From the iconic Fushimi Inari Shrine with its thousands of vermilion torii gates to the serene Zen gardens of Ryoan-ji, Kyoto's sacred sites provide a tranquil retreat from the hustle and bustle of modern life.\", 'category': 'travel', 'title': 'A Spiritual Journey to the Temples of Kyoto', '@search.score': 0.015625, '@search.reranker_score': 1.4850642681121826, '@search.highlights': None, '@search.captions': [<azure.search.documents._generated.models._models_py3.QueryCaptionResult object at 0x11b24a340>]}\n",
      "{'body': 'Machu Picchu, nestled high in the Andes Mountains of Peru, is a breathtaking archaeological site that offers a glimpse into the ancient Incan civilization. The towering stone structures, intricate terraces, and panoramic views make it a must-visit destination for any traveler seeking adventure and history.', 'category': 'travel', 'title': 'Exploring the Ancient Ruins of Machu Picchu', '@search.score': 0.016393441706895828, '@search.reranker_score': 1.4655330181121826, '@search.highlights': None, '@search.captions': [<azure.search.documents._generated.models._models_py3.QueryCaptionResult object at 0x11b24a310>]}\n",
      "{'body': 'Mars, the fourth planet from the sun, has long captured the imagination of scientists and space enthusiasts alike. With its barren landscapes, towering volcanoes, and tantalizing hints of ancient water, Mars offers tantalizing clues about the possibility of life beyond Earth and the potential for human exploration in the not-too-distant future.', 'category': 'space', 'title': 'The Mysteries of the Red Planet: Exploring Mars', '@search.score': 0.01666666753590107, '@search.reranker_score': 1.3927695751190186, '@search.highlights': None, '@search.captions': [<azure.search.documents._generated.models._models_py3.QueryCaptionResult object at 0x11b24a700>]}\n",
      "{'body': 'Florence, the birthplace of the Renaissance, is not only a treasure trove of art and history but also a paradise for food lovers. While exploring its cobblestone streets and historic piazzas, be sure to indulge in a scoop (or two) of authentic Italian gelato. With its creamy texture, intense flavors, and artisanal craftsmanship, gelato in Florence is a culinary experience that will leave you craving more.', 'category': 'food', 'title': 'Indulging in Authentic Gelato in Florence', '@search.score': 0.01587301678955555, '@search.reranker_score': 1.3824294805526733, '@search.highlights': None, '@search.captions': [<azure.search.documents._generated.models._models_py3.QueryCaptionResult object at 0x11b24aeb0>]}\n"
     ]
    }
   ],
   "source": [
    "docs = await m.search(\n",
    "    query=\"UNESCO\",\n",
    ")\n",
    "for doc in docs:\n",
    "    print(doc)"
   ]
  },
  {
   "cell_type": "code",
   "execution_count": 64,
   "metadata": {},
   "outputs": [
    {
     "name": "stdout",
     "output_type": "stream",
     "text": [
      "{'body': 'Mars, the fourth planet from the sun, has long captured the imagination of scientists and space enthusiasts alike. With its barren landscapes, towering volcanoes, and tantalizing hints of ancient water, Mars offers tantalizing clues about the possibility of life beyond Earth and the potential for human exploration in the not-too-distant future.', 'category': 'space', 'title': 'The Mysteries of the Red Planet: Exploring Mars', '@search.score': 0.79783154, '@search.reranker_score': None, '@search.highlights': None, '@search.captions': None}\n",
      "{'body': 'Machu Picchu, nestled high in the Andes Mountains of Peru, is a breathtaking archaeological site that offers a glimpse into the ancient Incan civilization. The towering stone structures, intricate terraces, and panoramic views make it a must-visit destination for any traveler seeking adventure and history.', 'category': 'travel', 'title': 'Exploring the Ancient Ruins of Machu Picchu', '@search.score': 0.7972241, '@search.reranker_score': None, '@search.highlights': None, '@search.captions': None}\n",
      "{'body': 'Bangkok, with its vibrant street food scene and world-renowned restaurants, is a paradise for food lovers seeking to explore the diverse and flavorful cuisine of Thailand. From spicy tom yum soup to fragrant green curry', 'category': 'food', 'title': 'Savoring the Flavors of Authentic Thai Cuisine in Bangkok', '@search.score': 0.7968264, '@search.reranker_score': None, '@search.highlights': None, '@search.captions': None}\n",
      "{'body': 'Florence, the birthplace of the Renaissance, is not only a treasure trove of art and history but also a paradise for food lovers. While exploring its cobblestone streets and historic piazzas, be sure to indulge in a scoop (or two) of authentic Italian gelato. With its creamy texture, intense flavors, and artisanal craftsmanship, gelato in Florence is a culinary experience that will leave you craving more.', 'category': 'food', 'title': 'Indulging in Authentic Gelato in Florence', '@search.score': 0.7960299, '@search.reranker_score': None, '@search.highlights': None, '@search.captions': None}\n",
      "{'body': \"Kyoto, Japan's cultural capital, is home to a wealth of ancient temples, shrines, and gardens that offer a glimpse into the country's rich spiritual heritage. From the iconic Fushimi Inari Shrine with its thousands of vermilion torii gates to the serene Zen gardens of Ryoan-ji, Kyoto's sacred sites provide a tranquil retreat from the hustle and bustle of modern life.\", 'category': 'travel', 'title': 'A Spiritual Journey to the Temples of Kyoto', '@search.score': 0.7948278, '@search.reranker_score': None, '@search.highlights': None, '@search.captions': None}\n"
     ]
    }
   ],
   "source": [
    "docs = await m.search_vector_only(query=\"UNESCO\")\n",
    "for doc in docs:\n",
    "    print(doc)\n",
    "    "
   ]
  },
  {
   "cell_type": "code",
   "execution_count": null,
   "metadata": {},
   "outputs": [],
   "source": []
  }
 ],
 "metadata": {
  "kernelspec": {
   "display_name": "venv",
   "language": "python",
   "name": "python3"
  },
  "language_info": {
   "codemirror_mode": {
    "name": "ipython",
    "version": 3
   },
   "file_extension": ".py",
   "mimetype": "text/x-python",
   "name": "python",
   "nbconvert_exporter": "python",
   "pygments_lexer": "ipython3",
   "version": "3.9.16"
  }
 },
 "nbformat": 4,
 "nbformat_minor": 2
}
